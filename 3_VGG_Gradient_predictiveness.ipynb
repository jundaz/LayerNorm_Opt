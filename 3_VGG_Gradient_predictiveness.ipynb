{
 "cells": [
  {
   "cell_type": "code",
   "execution_count": 1,
   "metadata": {
    "collapsed": true
   },
   "outputs": [],
   "source": [
    "import matplotlib.pyplot as plt\n",
    "%matplotlib inline\n",
    "import matplotlib.style as style\n",
    "style.use('seaborn')\n",
    "\n",
    "import warnings\n",
    "warnings.filterwarnings('ignore')"
   ]
  },
  {
   "cell_type": "code",
   "execution_count": 2,
   "outputs": [],
   "source": [
    "device_id = 0\n",
    "num_workers = 4\n",
    "\n",
    "batch_size = 128\n",
    "default_learning_rate = 0.1"
   ],
   "metadata": {
    "collapsed": false
   }
  },
  {
   "cell_type": "code",
   "execution_count": 3,
   "outputs": [],
   "source": [
    "from torch.utils.data import DataLoader, Dataset\n",
    "import torch.nn.functional as F\n",
    "import PIL.Image as Image\n",
    "from torch import nn\n",
    "import numpy as np\n",
    "import torch.optim as optim\n",
    "import pandas as pd\n",
    "import torch\n",
    "from torchvision import transforms, utils\n",
    "import torchvision.models as models\n",
    "import torchvision.datasets as datasets\n",
    "import os\n",
    "import sys\n",
    "import random\n",
    "from tqdm import tqdm as tqdm\n",
    "from IPython import display"
   ],
   "metadata": {
    "collapsed": false
   }
  },
  {
   "cell_type": "code",
   "execution_count": 4,
   "outputs": [],
   "source": [
    "# add our package dir to path\n",
    "module_path = os.path.dirname(os.getcwd())\n",
    "sys.path.append(module_path)\n",
    "\n",
    "home_path = module_path\n",
    "figures_path = os.path.join(home_path, 'reports', 'figures')\n",
    "models_path = os.path.join(home_path, 'reports', 'models')"
   ],
   "metadata": {
    "collapsed": false
   }
  },
  {
   "cell_type": "code",
   "execution_count": 5,
   "outputs": [
    {
     "name": "stdout",
     "output_type": "stream",
     "text": [
      "cuda:0\n",
      "NVIDIA GeForce RTX 3090 Ti\n"
     ]
    }
   ],
   "source": [
    "device_id = device_id\n",
    "os.environ[\"CUDA_DEVICE_ORDER\"]=\"PCI_BUS_ID\"\n",
    "os.environ[\"CUDA_VISIBLE_DEVICES\"]=str(device_id)\n",
    "\n",
    "device = torch.device(\"cuda:{}\".format(device_id) if torch.cuda.is_available() else \"cpu\")\n",
    "print(device)\n",
    "print(torch.cuda.get_device_name(device_id))"
   ],
   "metadata": {
    "collapsed": false
   }
  },
  {
   "cell_type": "code",
   "execution_count": 6,
   "outputs": [],
   "source": [
    "class PartialDataset(Dataset):\n",
    "    def __init__(self, dataset, n_items=10):\n",
    "        self.dataset = dataset\n",
    "        self.n_items = n_items\n",
    "\n",
    "    def __getitem__(self):\n",
    "        return self.dataset.__getitem__()\n",
    "\n",
    "    def __len__(self):\n",
    "        return min(self.n_items, len(self.dataset))"
   ],
   "metadata": {
    "collapsed": false
   }
  },
  {
   "cell_type": "code",
   "execution_count": 7,
   "outputs": [
    {
     "name": "stdout",
     "output_type": "stream",
     "text": [
      "Files already downloaded and verified\n",
      "Files already downloaded and verified\n"
     ]
    }
   ],
   "source": [
    "normalize = transforms.Normalize(mean=[0.5, 0.5, 0.5],\n",
    "                                 std=[0.5, 0.5, 0.5])\n",
    "train_transform = transforms.Compose(\n",
    "    [#transforms.RandomHorizontalFlip(),\n",
    "        #transforms.RandomCrop(32, 4),\n",
    "        transforms.ToTensor(),\n",
    "        normalize\n",
    "    ])\n",
    "val_transform = transforms.Compose(\n",
    "    [transforms.ToTensor(),\n",
    "     normalize\n",
    "     ])\n",
    "\n",
    "dataset_train = datasets.CIFAR10(root='../data/', train=True, download=True, transform=train_transform)\n",
    "train_loader = DataLoader(dataset_train, batch_size=batch_size, shuffle=True, num_workers=num_workers)\n",
    "\n",
    "dataset_val = datasets.CIFAR10(root='../data/', train=False, download=True, transform=val_transform)\n",
    "val_loader = DataLoader(dataset_val, batch_size=batch_size, shuffle=True, num_workers=num_workers)\n",
    "\n",
    "\n",
    "n_items = 10\n",
    "dataset_train_part = PartialDataset(dataset_train, n_items)\n",
    "train_loader_part = DataLoader(dataset_train, batch_size=batch_size, shuffle=True, num_workers=num_workers)\n",
    "\n",
    "classes = ('plane', 'car', 'bird', 'cat',\n",
    "           'deer', 'dog', 'frog', 'horse', 'ship', 'truck')"
   ],
   "metadata": {
    "collapsed": false
   }
  },
  {
   "cell_type": "code",
   "execution_count": 8,
   "outputs": [
    {
     "name": "stdout",
     "output_type": "stream",
     "text": [
      "tensor([[[ 0.3333,  0.3725,  0.4039,  ...,  0.3098,  0.2392,  0.1922],\n",
      "         [ 0.1059,  0.1216,  0.1529,  ...,  0.2784,  0.1686,  0.1373],\n",
      "         [ 0.1686,  0.1294,  0.0980,  ...,  0.3098,  0.2471,  0.1216],\n",
      "         ...,\n",
      "         [ 0.4275,  0.2784,  0.1765,  ...,  0.0745,  0.0824,  0.0588],\n",
      "         [ 0.1922,  0.0588,  0.0118,  ..., -0.1373, -0.1451, -0.1216],\n",
      "         [ 0.1765,  0.0667,  0.0275,  ..., -0.1373, -0.1373, -0.1216]],\n",
      "\n",
      "        [[-0.2392, -0.2157, -0.1922,  ..., -0.2000, -0.1451, -0.1216],\n",
      "         [-0.3020, -0.3098, -0.3020,  ...,  0.0353, -0.0431, -0.1529],\n",
      "         [-0.0667, -0.1373, -0.2000,  ...,  0.2549,  0.1451, -0.1294],\n",
      "         ...,\n",
      "         [ 0.4353,  0.2549,  0.1765,  ...,  0.1451,  0.1686,  0.1373],\n",
      "         [ 0.2000,  0.0745,  0.0196,  ..., -0.0353, -0.0510, -0.0275],\n",
      "         [ 0.1843,  0.0824,  0.0353,  ..., -0.0431, -0.0431, -0.0275]],\n",
      "\n",
      "        [[-0.3412, -0.3020, -0.2706,  ..., -0.2157, -0.2078, -0.2706],\n",
      "         [-0.3882, -0.3804, -0.3647,  ...,  0.0667, -0.0118, -0.2000],\n",
      "         [-0.1294, -0.2000, -0.2549,  ...,  0.3333,  0.2471, -0.1373],\n",
      "         ...,\n",
      "         [ 0.3882,  0.2235,  0.1686,  ...,  0.2314,  0.2627,  0.2235],\n",
      "         [ 0.2157,  0.0824,  0.0353,  ...,  0.0745,  0.0588,  0.0824],\n",
      "         [ 0.2314,  0.1216,  0.0745,  ...,  0.0667,  0.0667,  0.0824]]])\n",
      "tensor(9)\n",
      "torch.Size([3, 32, 32])\n",
      "tensor(0.9922)\n",
      "tensor(-0.9843)\n"
     ]
    },
    {
     "data": {
      "text/plain": "<Figure size 576x396 with 1 Axes>",
      "image/png": "[encoded data removed]"
     },
     "metadata": {},
     "output_type": "display_data"
    }
   ],
   "source": [
    "for X,y in train_loader:\n",
    "    print(X[0])\n",
    "    print(y[0])\n",
    "    print(X[0].shape)\n",
    "    plt.imshow(np.array(X[0,0,:,:]))\n",
    "    print(X[0].max())\n",
    "    print(X[0].min())\n",
    "    break"
   ],
   "metadata": {
    "collapsed": false
   }
  },
  {
   "cell_type": "code",
   "execution_count": 9,
   "outputs": [],
   "source": [
    "def get_number_of_parameters(model):\n",
    "    parameters_n = 0\n",
    "    for parameter in model.parameters():\n",
    "        parameters_n += np.prod(parameter.shape).item()\n",
    "\n",
    "    return parameters_n"
   ],
   "metadata": {
    "collapsed": false
   }
  },
  {
   "cell_type": "code",
   "execution_count": 10,
   "outputs": [
    {
     "name": "stdout",
     "output_type": "stream",
     "text": [
      "9750922\n"
     ]
    }
   ],
   "source": [
    "class VGG_A(nn.Module):\n",
    "    def __init__(self, inp_ch=3, num_classes=10):\n",
    "        super().__init__()\n",
    "\n",
    "        self.stage1 = nn.Sequential(\n",
    "            nn.Conv2d(in_channels=inp_ch, out_channels=64, kernel_size=3, padding=1),\n",
    "            #nn.BatchNorm2d(64),\n",
    "            nn.ReLU(),\n",
    "            nn.MaxPool2d(kernel_size=2, stride=2))\n",
    "\n",
    "        self.stage2 = nn.Sequential(\n",
    "            nn.Conv2d(in_channels=64, out_channels=128, kernel_size=3, padding=1),\n",
    "            #nn.BatchNorm2d(128),\n",
    "            nn.ReLU(),\n",
    "            nn.MaxPool2d(kernel_size=2, stride=2))\n",
    "\n",
    "        self.stage3 = nn.Sequential(\n",
    "            nn.Conv2d(in_channels=128, out_channels=256, kernel_size=3, padding=1),\n",
    "            #nn.BatchNorm2d(256),\n",
    "            nn.ReLU(),\n",
    "            nn.Conv2d(in_channels=256, out_channels=256, kernel_size=3, padding=1),\n",
    "            #nn.BatchNorm2d(256),\n",
    "            nn.ReLU(),\n",
    "            nn.MaxPool2d(kernel_size=2, stride=2))\n",
    "\n",
    "        self.stage4 = nn.Sequential(\n",
    "            nn.Conv2d(in_channels=256, out_channels=512, kernel_size=3, padding=1),\n",
    "            #nn.BatchNorm2d(512),\n",
    "            nn.ReLU(),\n",
    "            nn.Conv2d(in_channels=512, out_channels=512, kernel_size=3, padding=1),\n",
    "            #nn.BatchNorm2d(512),\n",
    "            nn.ReLU(),\n",
    "            nn.MaxPool2d(kernel_size=2, stride=2))\n",
    "\n",
    "        self.stage5 = nn.Sequential(\n",
    "            nn.Conv2d(in_channels=512, out_channels=512, kernel_size=3, padding=1),\n",
    "            #nn.BatchNorm2d(512),\n",
    "            nn.ReLU(),\n",
    "            nn.Conv2d(in_channels=512, out_channels=512, kernel_size=3, padding=1),\n",
    "            #nn.BatchNorm2d(512),\n",
    "            nn.ReLU(),\n",
    "            nn.MaxPool2d(kernel_size=2, stride=2))\n",
    "\n",
    "        self.stage6 = nn.Sequential(\n",
    "            nn.Linear(512*1*1, 512),\n",
    "            #nn.BatchNorm1d(512),\n",
    "            nn.ReLU(),\n",
    "            nn.Linear(512, 512),\n",
    "            #nn.BatchNorm1d(512),\n",
    "            nn.ReLU(),\n",
    "            nn.Linear(512, num_classes))\n",
    "\n",
    "\n",
    "    def forward(self, x):\n",
    "        x = self.stage1(x)\n",
    "        x = self.stage2(x)\n",
    "        x = self.stage3(x)\n",
    "        x = self.stage4(x)\n",
    "        x = self.stage5(x)\n",
    "        x = self.stage6(x.view(-1, 512*1*1))\n",
    "        return x\n",
    "\n",
    "class VGG_A_Batch(nn.Module):\n",
    "    def __init__(self, inp_ch=3, num_classes=10):\n",
    "        super().__init__()\n",
    "\n",
    "        self.stage1 = nn.Sequential(\n",
    "            nn.Conv2d(in_channels=inp_ch, out_channels=64, kernel_size=3, padding=1),\n",
    "            nn.BatchNorm2d(64),\n",
    "            nn.ReLU(),\n",
    "            nn.MaxPool2d(kernel_size=2, stride=2))\n",
    "\n",
    "        self.stage2 = nn.Sequential(\n",
    "            nn.Conv2d(in_channels=64, out_channels=128, kernel_size=3, padding=1),\n",
    "            nn.BatchNorm2d(128),\n",
    "            nn.ReLU(),\n",
    "            nn.MaxPool2d(kernel_size=2, stride=2))\n",
    "\n",
    "        self.stage3 = nn.Sequential(\n",
    "            nn.Conv2d(in_channels=128, out_channels=256, kernel_size=3, padding=1),\n",
    "            nn.BatchNorm2d(256),\n",
    "            nn.ReLU(),\n",
    "            nn.Conv2d(in_channels=256, out_channels=256, kernel_size=3, padding=1),\n",
    "            nn.BatchNorm2d(256),\n",
    "            nn.ReLU(),\n",
    "            nn.MaxPool2d(kernel_size=2, stride=2))\n",
    "\n",
    "        self.stage4 = nn.Sequential(\n",
    "            nn.Conv2d(in_channels=256, out_channels=512, kernel_size=3, padding=1),\n",
    "            nn.BatchNorm2d(512),\n",
    "            nn.ReLU(),\n",
    "            nn.Conv2d(in_channels=512, out_channels=512, kernel_size=3, padding=1),\n",
    "            nn.BatchNorm2d(512),\n",
    "            nn.ReLU(),\n",
    "            nn.MaxPool2d(kernel_size=2, stride=2))\n",
    "\n",
    "        self.stage5 = nn.Sequential(\n",
    "            nn.Conv2d(in_channels=512, out_channels=512, kernel_size=3, padding=1),\n",
    "            nn.BatchNorm2d(512),\n",
    "            nn.ReLU(),\n",
    "            nn.Conv2d(in_channels=512, out_channels=512, kernel_size=3, padding=1),\n",
    "            nn.BatchNorm2d(512),\n",
    "            nn.ReLU(),\n",
    "            nn.MaxPool2d(kernel_size=2, stride=2))\n",
    "\n",
    "        self.stage6 = nn.Sequential(\n",
    "            nn.Linear(512*1*1, 512),\n",
    "            nn.BatchNorm1d(512),\n",
    "            nn.ReLU(),\n",
    "            nn.Linear(512, 512),\n",
    "            nn.BatchNorm1d(512),\n",
    "            nn.ReLU(),\n",
    "            nn.Linear(512, num_classes))\n",
    "\n",
    "\n",
    "    def forward(self, x):\n",
    "        x = self.stage1(x)\n",
    "        x = self.stage2(x)\n",
    "        x = self.stage3(x)\n",
    "        x = self.stage4(x)\n",
    "        x = self.stage5(x)\n",
    "        x = self.stage6(x.view(-1, 512*1*1))\n",
    "        return x\n",
    "\n",
    "class VGG_A_Light(nn.Module):\n",
    "    def __init__(self, inp_ch=3, num_classes=10):\n",
    "        super().__init__()\n",
    "\n",
    "        self.stage1 = nn.Sequential(\n",
    "            nn.Conv2d(in_channels=inp_ch, out_channels=16, kernel_size=3, padding=1),\n",
    "            nn.ReLU(),\n",
    "            nn.MaxPool2d(kernel_size=2, stride=2))\n",
    "\n",
    "        self.stage2 = nn.Sequential(\n",
    "            nn.Conv2d(in_channels=16, out_channels=32, kernel_size=3, padding=1),\n",
    "            nn.ReLU(),\n",
    "            nn.MaxPool2d(kernel_size=2, stride=2))\n",
    "        '''\n",
    "        self.stage3 = nn.Sequential(\n",
    "            nn.Conv2d(in_channels=32, out_channels=64, kernel_size=3, padding=1),\n",
    "            nn.Conv2d(in_channels=64, out_channels=64, kernel_size=3, padding=1),\n",
    "            nn.ReLU(),\n",
    "            nn.MaxPool2d(kernel_size=2, stride=2))\n",
    "\n",
    "        self.stage4 = nn.Sequential(\n",
    "            nn.Conv2d(in_channels=64, out_channels=128, kernel_size=3, padding=1),\n",
    "            nn.Conv2d(in_channels=128, out_channels=128, kernel_size=3, padding=1),\n",
    "            nn.ReLU(),\n",
    "            nn.MaxPool2d(kernel_size=2, stride=2))\n",
    "\n",
    "        self.stage5 = nn.Sequential(\n",
    "            nn.Conv2d(in_channels=512, out_channels=512, kernel_size=3, padding=1),\n",
    "            nn.Conv2d(in_channels=512, out_channels=512, kernel_size=3, padding=1),\n",
    "            nn.ReLU(),\n",
    "            nn.MaxPool2d(kernel_size=2, stride=2))\n",
    "        '''\n",
    "        self.classifier = nn.Sequential(\n",
    "            nn.Linear(32*8*8, 128),\n",
    "            nn.ReLU(),\n",
    "            nn.Linear(128, 128),\n",
    "            nn.ReLU(),\n",
    "            nn.Linear(128, num_classes))\n",
    "\n",
    "\n",
    "    def forward(self, x):\n",
    "        x = self.stage1(x)\n",
    "        x = self.stage2(x)\n",
    "        #x = self.stage3(x)\n",
    "        #x = self.stage4(x)\n",
    "        #x = self.stage5(x)\n",
    "        x = self.classifier(x.view(-1, 32*8*8))\n",
    "        return x\n",
    "\n",
    "\n",
    "class VGG_A_Dropout(nn.Module):\n",
    "    def __init__(self, inp_ch=3, num_classes=10):\n",
    "        super().__init__()\n",
    "\n",
    "        self.stage1 = nn.Sequential(\n",
    "            nn.Conv2d(in_channels=inp_ch, out_channels=64, kernel_size=3, padding=1),\n",
    "            nn.ReLU(True),\n",
    "            nn.MaxPool2d(kernel_size=2, stride=2))\n",
    "\n",
    "        self.stage2 = nn.Sequential(\n",
    "            nn.Conv2d(in_channels=64, out_channels=128, kernel_size=3, padding=1),\n",
    "            nn.ReLU(True),\n",
    "            nn.MaxPool2d(kernel_size=2, stride=2))\n",
    "\n",
    "        self.stage3 = nn.Sequential(\n",
    "            nn.Conv2d(in_channels=128, out_channels=256, kernel_size=3, padding=1),\n",
    "            nn.ReLU(True),\n",
    "            nn.Conv2d(in_channels=256, out_channels=256, kernel_size=3, padding=1),\n",
    "            nn.ReLU(True),\n",
    "            nn.MaxPool2d(kernel_size=2, stride=2))\n",
    "\n",
    "        self.stage4 = nn.Sequential(\n",
    "            nn.Conv2d(in_channels=256, out_channels=512, kernel_size=3, padding=1),\n",
    "            nn.ReLU(True),\n",
    "            nn.Conv2d(in_channels=512, out_channels=512, kernel_size=3, padding=1),\n",
    "            nn.ReLU(True),\n",
    "            nn.MaxPool2d(kernel_size=2, stride=2))\n",
    "\n",
    "        self.stage5 = nn.Sequential(\n",
    "            nn.Conv2d(in_channels=512, out_channels=512, kernel_size=3, padding=1),\n",
    "            nn.ReLU(True),\n",
    "            nn.Conv2d(in_channels=512, out_channels=512, kernel_size=3, padding=1),\n",
    "            nn.ReLU(True),\n",
    "            nn.MaxPool2d(kernel_size=2, stride=2))\n",
    "\n",
    "        self.classifier = nn.Sequential(\n",
    "            nn.Dropout(),\n",
    "            nn.Linear(512*1*1, 512),\n",
    "            nn.ReLU(True),\n",
    "            nn.Dropout(),\n",
    "            nn.Linear(512, 512),\n",
    "            nn.ReLU(True),\n",
    "            nn.Linear(512, num_classes))\n",
    "\n",
    "\n",
    "    def forward(self, x):\n",
    "        x = self.stage1(x)\n",
    "        x = self.stage2(x)\n",
    "        x = self.stage3(x)\n",
    "        x = self.stage4(x)\n",
    "        x = self.stage5(x)\n",
    "        x = self.classifier(x.view(-1, 512*1*1))\n",
    "        return x\n",
    "\n",
    "print(get_number_of_parameters(VGG_A()))"
   ],
   "metadata": {
    "collapsed": false
   }
  },
  {
   "cell_type": "code",
   "execution_count": 11,
   "outputs": [],
   "source": [
    "def get_accuracy(model, dataloader, device='cpu'):\n",
    "    correct = 0\n",
    "    with torch.no_grad():\n",
    "        for x, y in dataloader:\n",
    "            x = x.to(device)  ## <---\n",
    "            y = y.to(device)  ## <---\n",
    "            prediction = model(x).argmax(dim=-1, keepdim=True)\n",
    "            correct += prediction.eq(y.view_as(prediction)).sum().item()\n",
    "    return correct / len(dataloader.dataset)"
   ],
   "metadata": {
    "collapsed": false
   }
  },
  {
   "cell_type": "code",
   "execution_count": 12,
   "outputs": [],
   "source": [
    "def set_random_seeds(seed_value=0, device='cpu'):\n",
    "    np.random.seed(seed_value)\n",
    "    torch.manual_seed(seed_value)\n",
    "    random.seed(seed_value)\n",
    "    if device != 'cpu':\n",
    "        torch.cuda.manual_seed(seed_value)\n",
    "        torch.cuda.manual_seed_all(seed_value)\n",
    "        torch.backends.cudnn.deterministic = True\n",
    "        torch.backends.cudnn.benchmark = False"
   ],
   "metadata": {
    "collapsed": false
   }
  },
  {
   "cell_type": "code",
   "execution_count": 13,
   "outputs": [],
   "source": [
    "def train(model,\n",
    "          optimizer,\n",
    "          criterion,\n",
    "          train_loader,\n",
    "          val_loader,\n",
    "          scheduler=None,\n",
    "          epochs_n=100,\n",
    "          best_model_path=None):\n",
    "\n",
    "    model.to(device)\n",
    "    learning_curve = [np.nan] * epochs_n\n",
    "    train_accuracy_curve = [np.nan] * epochs_n\n",
    "    val_accuracy_curve = [np.nan] * epochs_n\n",
    "    max_val_accuracy = 0\n",
    "    max_val_accuracy_epoch = 0\n",
    "\n",
    "    batches_n = len(train_loader)\n",
    "    grads = []\n",
    "    for epoch in tqdm(range(epochs_n), unit='epoch'):\n",
    "        if scheduler is not None:\n",
    "            scheduler.step()\n",
    "        model.train()\n",
    "        grad = []\n",
    "        learning_curve[epoch] = 0\n",
    "        for data in train_loader:\n",
    "\n",
    "            #print(data)\n",
    "\n",
    "            x, y = data\n",
    "            x = x.to(device)\n",
    "            y = y.to(device)\n",
    "            optimizer.zero_grad()\n",
    "            prediction = model(x)\n",
    "            loss = criterion(prediction, y)\n",
    "            #print(loss.item())\n",
    "            #loss_list.append(loss.item())\n",
    "            learning_curve[epoch] += loss.item()\n",
    "            loss.backward()\n",
    "            grad.append(model.stage6[4].weight.grad.clone())\n",
    "            optimizer.step()\n",
    "        grads.append(grad)\n",
    "        display.clear_output(wait=True)\n",
    "        f, axes = plt.subplots(1, 2, figsize=(15, 3))\n",
    "\n",
    "        learning_curve[epoch] /= batches_n\n",
    "        axes[0].plot(learning_curve)\n",
    "\n",
    "        model.eval()\n",
    "        train_accuracy_curve[epoch] = get_accuracy(model, train_loader, device)\n",
    "        val_accuracy_curve[epoch] = get_accuracy(model, val_loader, device)\n",
    "\n",
    "        val_accuracy = val_accuracy_curve[epoch]\n",
    "        if val_accuracy > max_val_accuracy:\n",
    "            max_val_accuracy = val_accuracy\n",
    "            max_val_accuracy_epoch = epoch\n",
    "            if best_model_path:\n",
    "                torch.save(model.state_dict(), best_model_path)\n",
    "\n",
    "        axes[1].set_title('Train {:.4f}, val {:.4f}, max val {:.4f} at {}'.format(\n",
    "            train_accuracy_curve[epoch], val_accuracy, max_val_accuracy, max_val_accuracy_epoch))\n",
    "        axes[1].plot(train_accuracy_curve)\n",
    "        axes[1].plot(val_accuracy_curve)\n",
    "\n",
    "        plt.tight_layout()\n",
    "        plt.show()\n",
    "    return grads"
   ],
   "metadata": {
    "collapsed": false
   }
  },
  {
   "cell_type": "code",
   "execution_count": 14,
   "outputs": [],
   "source": [
    "def train_batch(model,\n",
    "                optimizer,\n",
    "                criterion,\n",
    "                train_loader,\n",
    "                val_loader,\n",
    "                scheduler=None,\n",
    "                epochs_n=100,\n",
    "                best_model_path=None):\n",
    "\n",
    "    model.to(device)\n",
    "    learning_curve = [np.nan] * epochs_n\n",
    "    train_accuracy_curve = [np.nan] * epochs_n\n",
    "    val_accuracy_curve = [np.nan] * epochs_n\n",
    "    max_val_accuracy = 0\n",
    "    max_val_accuracy_epoch = 0\n",
    "\n",
    "    batches_n = len(train_loader)\n",
    "    grads = []\n",
    "    for epoch in tqdm(range(epochs_n), unit='epoch'):\n",
    "        if scheduler is not None:\n",
    "            scheduler.step()\n",
    "        model.train()\n",
    "        grad = []\n",
    "        learning_curve[epoch] = 0\n",
    "        for data in train_loader:\n",
    "\n",
    "            #print(data)\n",
    "\n",
    "            x, y = data\n",
    "            x = x.to(device)\n",
    "            y = y.to(device)\n",
    "            optimizer.zero_grad()\n",
    "            prediction = model(x)\n",
    "            loss = criterion(prediction, y)\n",
    "            #print(loss.item())\n",
    "            #loss_list.append(loss.item())\n",
    "            learning_curve[epoch] += loss.item()\n",
    "            loss.backward()\n",
    "            grad.append(model.stage6[6].weight.grad.clone())\n",
    "            optimizer.step()\n",
    "        grads.append(grad)\n",
    "        display.clear_output(wait=True)\n",
    "        f, axes = plt.subplots(1, 2, figsize=(15, 3))\n",
    "\n",
    "        learning_curve[epoch] /= batches_n\n",
    "        axes[0].plot(learning_curve)\n",
    "\n",
    "        model.eval()\n",
    "        train_accuracy_curve[epoch] = get_accuracy(model, train_loader, device)\n",
    "        val_accuracy_curve[epoch] = get_accuracy(model, val_loader, device)\n",
    "\n",
    "        val_accuracy = val_accuracy_curve[epoch]\n",
    "        if val_accuracy > max_val_accuracy:\n",
    "            max_val_accuracy = val_accuracy\n",
    "            max_val_accuracy_epoch = epoch\n",
    "            if best_model_path:\n",
    "                torch.save(model.state_dict(), best_model_path)\n",
    "\n",
    "        axes[1].set_title('Train {:.4f}, val {:.4f}, max val {:.4f} at {}'.format(\n",
    "            train_accuracy_curve[epoch], val_accuracy, max_val_accuracy, max_val_accuracy_epoch))\n",
    "        axes[1].plot(train_accuracy_curve)\n",
    "        axes[1].plot(val_accuracy_curve)\n",
    "\n",
    "        plt.tight_layout()\n",
    "        plt.show()\n",
    "    return grads"
   ],
   "metadata": {
    "collapsed": false
   }
  },
  {
   "cell_type": "code",
   "execution_count": 15,
   "outputs": [],
   "source": [
    "epo = 20"
   ],
   "metadata": {
    "collapsed": false
   }
  },
  {
   "cell_type": "code",
   "execution_count": 16,
   "outputs": [
    {
     "data": {
      "text/plain": "<Figure size 1080x216 with 2 Axes>",
      "image/png": "[encoded data removed]"
     },
     "metadata": {},
     "output_type": "display_data"
    },
    {
     "name": "stderr",
     "output_type": "stream",
     "text": [
      "100%|██████████| 20/20 [09:05<00:00, 27.29s/epoch]\n"
     ]
    }
   ],
   "source": [
    "os.path.join(os.getcwd(), 'best_vgg_1.pt') #change dump name here\n",
    "\n",
    "set_random_seeds(seed_value=1984, device=device)\n",
    "model = VGG_A()\n",
    "lr = 0.001\n",
    "#optimizer = torch.optim.SGD(model.parameters(), lr = lr, momentum=0.9, weight_decay=5e-4)\n",
    "optimizer = torch.optim.Adam(model.parameters(), lr = lr)\n",
    "criterion = nn.CrossEntropyLoss()\n",
    "\n",
    "grads_01 = train(model,\n",
    "                 optimizer,\n",
    "                 criterion,\n",
    "                 train_loader,\n",
    "                 val_loader,\n",
    "                 epochs_n=epo)"
   ],
   "metadata": {
    "collapsed": false
   }
  },
  {
   "cell_type": "code",
   "execution_count": null,
   "outputs": [
    {
     "data": {
      "text/plain": "<Figure size 1080x216 with 2 Axes>",
      "image/png": "[encoded data removed]"
     },
     "metadata": {},
     "output_type": "display_data"
    },
    {
     "name": "stderr",
     "output_type": "stream",
     "text": [
      " 70%|███████   | 14/20 [06:11<02:39, 26.63s/epoch]"
     ]
    }
   ],
   "source": [
    "set_random_seeds(seed_value=1984, device=device)\n",
    "model = VGG_A()\n",
    "lr = 0.0005\n",
    "#optimizer = torch.optim.SGD(model.parameters(), lr = lr, weight_decay=5e-4)\n",
    "criterion = nn.CrossEntropyLoss()\n",
    "optimizer = torch.optim.Adam(model.parameters(), lr = lr)\n",
    "\n",
    "grads_005 = train(model,\n",
    "                  optimizer,\n",
    "                  criterion,\n",
    "                  train_loader,\n",
    "                  val_loader,\n",
    "                  epochs_n=epo)"
   ],
   "metadata": {
    "collapsed": false,
    "pycharm": {
     "is_executing": true
    }
   }
  },
  {
   "cell_type": "code",
   "execution_count": null,
   "outputs": [],
   "source": [
    "set_random_seeds(seed_value=1984, device=device)\n",
    "model = VGG_A()\n",
    "lr = 0.002\n",
    "#optimizer = torch.optim.SGD(model.parameters(), lr = lr, momentum=0.9, weight_decay=5e-4)\n",
    "criterion = nn.CrossEntropyLoss()\n",
    "optimizer = torch.optim.Adam(model.parameters(), lr = lr)\n",
    "\n",
    "grads_02 = train(model,\n",
    "                 optimizer,\n",
    "                 criterion,\n",
    "                 train_loader,\n",
    "                 val_loader,\n",
    "                 epochs_n=epo)"
   ],
   "metadata": {
    "collapsed": false,
    "pycharm": {
     "is_executing": true
    }
   }
  },
  {
   "cell_type": "code",
   "execution_count": null,
   "outputs": [],
   "source": [
    "set_random_seeds(seed_value=1984, device=device)\n",
    "model = VGG_A()\n",
    "lr = 0.0001\n",
    "#optimizer = torch.optim.SGD(model.parameters(), lr = lr, momentum=0.9, weight_decay=5e-4)\n",
    "criterion = nn.CrossEntropyLoss()\n",
    "optimizer = torch.optim.Adam(model.parameters(), lr = lr)\n",
    "\n",
    "\n",
    "grads_001 = train(model,\n",
    "                  optimizer,\n",
    "                  criterion,\n",
    "                  train_loader,\n",
    "                  val_loader,\n",
    "                  epochs_n=epo)"
   ],
   "metadata": {
    "collapsed": false,
    "pycharm": {
     "is_executing": true
    }
   }
  },
  {
   "cell_type": "code",
   "execution_count": null,
   "outputs": [],
   "source": [
    "set_random_seeds(seed_value=1984, device=device)\n",
    "model = VGG_A()\n",
    "lr = 0.003\n",
    "#optimizer = torch.optim.SGD(model.parameters(), lr = lr, momentum=0.9, weight_decay=5e-4)\n",
    "optimizer = torch.optim.Adam(model.parameters(), lr = lr)\n",
    "criterion = nn.CrossEntropyLoss()\n",
    "\n",
    "grads_03 = train(model,\n",
    "                 optimizer,\n",
    "                 criterion,\n",
    "                 train_loader,\n",
    "                 val_loader,\n",
    "                 epochs_n=epo)"
   ],
   "metadata": {
    "collapsed": false,
    "pycharm": {
     "is_executing": true
    }
   }
  },
  {
   "cell_type": "code",
   "execution_count": null,
   "outputs": [],
   "source": [
    "#import itertools\n",
    "lol_01 = np.array(grads_01).flatten()\n",
    "lol_02 = np.array(grads_02).flatten()\n",
    "lol_005 = np.array(grads_005).flatten()\n",
    "lol_001 = np.array(grads_001).flatten()\n",
    "\n",
    "kek_01 = []\n",
    "kek_02 = []\n",
    "kek_005 = []\n",
    "kek_001 = []\n",
    "for i in range(1,len(lol_01)):\n",
    "    kek_01.append((lol_01[i-1] - lol_01[i]).norm(p=2).item())\n",
    "    kek_02.append((lol_02[i-1] - lol_02[i]).norm(p=2).item())\n",
    "    kek_005.append((lol_005[i-1] - lol_005[i]).norm(p=2).item())\n",
    "    kek_001.append((lol_001[i-1] - lol_001[i]).norm(p=2).item())\n",
    "\n",
    "min_curve = []\n",
    "max_curve = []\n",
    "for i in range(len(kek_01)):\n",
    "    min_curve.append(np.min([kek_01[i], kek_02[i], kek_005[i], kek_001[i]]))\n",
    "    max_curve.append(np.max([kek_01[i], kek_02[i], kek_005[i], kek_001[i]]))"
   ],
   "metadata": {
    "collapsed": false,
    "pycharm": {
     "is_executing": true
    }
   }
  },
  {
   "cell_type": "code",
   "execution_count": null,
   "outputs": [],
   "source": [
    "plt.figure(figsize=(15, 10))\n",
    "plt.fill_between(range(len(min_curve)//5+1), min_curve[::5], max_curve[::5])"
   ],
   "metadata": {
    "collapsed": false,
    "pycharm": {
     "is_executing": true
    }
   }
  },
  {
   "cell_type": "code",
   "execution_count": null,
   "outputs": [],
   "source": [
    "plt.figure(figsize=(15, 10))\n",
    "plt.plot(range(len(kek_01)), kek_01)"
   ],
   "metadata": {
    "collapsed": false,
    "pycharm": {
     "is_executing": true
    }
   }
  },
  {
   "cell_type": "code",
   "execution_count": null,
   "outputs": [],
   "source": [
    "os.path.join(os.getcwd(), 'best_vgg_1.pt') #change dump name here\n",
    "\n",
    "set_random_seeds(seed_value=1984, device=device)\n",
    "model = VGG_A_Batch()\n",
    "lr = 0.001\n",
    "#optimizer = torch.optim.SGD(model.parameters(), lr = lr, momentum=0.9, weight_decay=5e-4)\n",
    "optimizer = torch.optim.Adam(model.parameters(), lr = lr)\n",
    "criterion = nn.CrossEntropyLoss()\n",
    "\n",
    "grads_batch_01 = train_batch(model,\n",
    "                             optimizer,\n",
    "                             criterion,\n",
    "                             train_loader,\n",
    "                             val_loader,\n",
    "                             epochs_n=epo)"
   ],
   "metadata": {
    "collapsed": false,
    "pycharm": {
     "is_executing": true
    }
   }
  },
  {
   "cell_type": "code",
   "execution_count": null,
   "outputs": [],
   "source": [
    "set_random_seeds(seed_value=1984, device=device)\n",
    "model = VGG_A_Batch()\n",
    "lr = 0.0005\n",
    "#optimizer = torch.optim.SGD(model.parameters(), lr = lr, weight_decay=5e-4)\n",
    "criterion = nn.CrossEntropyLoss()\n",
    "optimizer = torch.optim.Adam(model.parameters(), lr = lr)\n",
    "\n",
    "grads_batch_005 = train_batch(model,\n",
    "                              optimizer,\n",
    "                              criterion,\n",
    "                              train_loader,\n",
    "                              val_loader,\n",
    "                              epochs_n=epo)\n"
   ],
   "metadata": {
    "collapsed": false,
    "pycharm": {
     "is_executing": true
    }
   }
  },
  {
   "cell_type": "code",
   "execution_count": null,
   "outputs": [],
   "source": [
    "set_random_seeds(seed_value=1984, device=device)\n",
    "model = VGG_A_Batch()\n",
    "lr = 0.002\n",
    "#optimizer = torch.optim.SGD(model.parameters(), lr = lr, momentum=0.9, weight_decay=5e-4)\n",
    "criterion = nn.CrossEntropyLoss()\n",
    "optimizer = torch.optim.Adam(model.parameters(), lr = lr)\n",
    "\n",
    "grads_batch_02 = train_batch(model,\n",
    "                             optimizer,\n",
    "                             criterion,\n",
    "                             train_loader,\n",
    "                             val_loader,\n",
    "                             epochs_n=epo)"
   ],
   "metadata": {
    "collapsed": false,
    "pycharm": {
     "is_executing": true
    }
   }
  },
  {
   "cell_type": "code",
   "execution_count": null,
   "outputs": [],
   "source": [
    "set_random_seeds(seed_value=1984, device=device)\n",
    "model = VGG_A_Batch()\n",
    "lr = 0.0001\n",
    "#optimizer = torch.optim.SGD(model.parameters(), lr = lr, momentum=0.9, weight_decay=5e-4)\n",
    "criterion = nn.CrossEntropyLoss()\n",
    "optimizer = torch.optim.Adam(model.parameters(), lr = lr)\n",
    "\n",
    "\n",
    "grads_batch_001 = train_batch(model,\n",
    "                              optimizer,\n",
    "                              criterion,\n",
    "                              train_loader,\n",
    "                              val_loader,\n",
    "                              epochs_n=epo)"
   ],
   "metadata": {
    "collapsed": false,
    "pycharm": {
     "is_executing": true
    }
   }
  },
  {
   "cell_type": "code",
   "execution_count": null,
   "outputs": [],
   "source": [
    "set_random_seeds(seed_value=1984, device=device)\n",
    "model = VGG_A_Batch()\n",
    "lr = 0.003\n",
    "#optimizer = torch.optim.SGD(model.parameters(), lr = lr, momentum=0.9, weight_decay=5e-4)\n",
    "criterion = nn.CrossEntropyLoss()\n",
    "optimizer = torch.optim.Adam(model.parameters(), lr = lr)\n",
    "\n",
    "grads_batch_03 = train_batch(model,\n",
    "                             optimizer,\n",
    "                             criterion,\n",
    "                             train_loader,\n",
    "                             val_loader,\n",
    "                             epochs_n=epo)"
   ],
   "metadata": {
    "collapsed": false,
    "pycharm": {
     "is_executing": true
    }
   }
  },
  {
   "cell_type": "code",
   "execution_count": null,
   "outputs": [],
   "source": [
    "lol_batch_01 = np.array(grads_batch_01).flatten()\n",
    "lol_batch_02 = np.array(grads_batch_02).flatten()\n",
    "lol_batch_005 = np.array(grads_batch_005).flatten()\n",
    "lol_batch_001 = np.array(grads_batch_001).flatten()\n",
    "\n",
    "kek_batch_01 = []\n",
    "kek_batch_02 = []\n",
    "kek_batch_005 = []\n",
    "kek_batch_001 = []\n",
    "for i in range(1,len(lol_01)):\n",
    "    kek_batch_01.append((lol_batch_01[i-1] - lol_batch_01[i]).norm(p=2).item())\n",
    "    kek_batch_02.append((lol_batch_02[i-1] - lol_batch_02[i]).norm(p=2).item())\n",
    "    kek_batch_005.append((lol_batch_005[i-1] - lol_batch_005[i]).norm(p=2).item())\n",
    "    kek_batch_001.append((lol_batch_001[i-1] - lol_batch_001[i]).norm(p=2).item())\n",
    "\n",
    "min_batch_curve = []\n",
    "max_batch_curve = []\n",
    "for i in range(len(kek_01)):\n",
    "    min_batch_curve.append(np.min([kek_batch_01[i], kek_batch_02[i], kek_batch_005[i], kek_batch_001[i]]))\n",
    "    max_batch_curve.append(np.max([kek_batch_01[i], kek_batch_02[i], kek_batch_005[i], kek_batch_001[i]]))"
   ],
   "metadata": {
    "collapsed": false,
    "pycharm": {
     "is_executing": true
    }
   }
  },
  {
   "cell_type": "code",
   "execution_count": null,
   "outputs": [],
   "source": [
    "plt.figure(figsize=(15, 10))\n",
    "plt.fill_between(range(len(min_curve) // 5 + 1), min_curve[::5], max_curve[::5])\n",
    "plt.fill_between(range(len(min_batch_curve) // 5 + 1), min_batch_curve[::5], max_batch_curve[::5])\n",
    "plt.show()"
   ],
   "metadata": {
    "collapsed": false,
    "pycharm": {
     "is_executing": true
    }
   }
  },
  {
   "cell_type": "code",
   "execution_count": null,
   "outputs": [],
   "source": [
    "plt.show()\n",
    "step = 30\n",
    "steps = np.arange(0, len(min_curve), step)\n",
    "plt.figure(figsize=(15, 10))\n",
    "plt.fill_between(steps, min_curve[::step], max_curve[::step],\n",
    "                 alpha=0.5, color='C1', label='Standart VGG')\n",
    "plt.plot(steps, min_curve[::step], color='C1')\n",
    "plt.plot(steps, max_curve[::step], color='C1')\n",
    "\n",
    "plt.fill_between(steps, min_batch_curve[::step], max_batch_curve[::step],\n",
    "                 alpha=0.5, color='C2', label='Standart VGG + BatchNorm')\n",
    "plt.plot(steps, min_batch_curve[::step], color='C2')\n",
    "plt.plot(steps, max_batch_curve[::step], color='C2')\n",
    "\n",
    "plt.legend(fontsize=19)\n",
    "plt.title('Gradient Predictiveness', fontsize=20)\n",
    "plt.ylabel('Gradient Predictiveness', fontsize=13)\n",
    "plt.xlabel('Steps', fontsize=13)\n",
    "plt.savefig(os.path.join(figures_path, 'gradient_predictiveness.png'), dpi=500, quality=100)\n",
    "plt.show()"
   ],
   "metadata": {
    "collapsed": false,
    "pycharm": {
     "is_executing": true
    }
   }
  },
  {
   "cell_type": "code",
   "execution_count": null,
   "outputs": [],
   "source": [
    "step = 50\n",
    "steps = np.arange(0, len(min_curve), step)\n",
    "plt.figure(figsize=(15, 10))\n",
    "\n",
    "plt.plot(steps, max_curve[::step], color='C1', label='Standart VGG')\n",
    "\n",
    "plt.plot(steps, max_batch_curve[::step], color='C2', label='Standart VGG + BatchNorm')\n",
    "\n",
    "plt.legend(fontsize=19)\n",
    "plt.title('Effective beta-smoothness', fontsize=20)\n",
    "plt.ylabel('Effective beta-smoothness', fontsize=13)\n",
    "plt.xlabel('Steps', fontsize=13)\n",
    "plt.savefig(os.path.join(figures_path, 'effective_beta_smoothness.png'), dpi=500, quality=100)\n",
    "plt.show()"
   ],
   "metadata": {
    "collapsed": false,
    "pycharm": {
     "is_executing": true
    }
   }
  }
 ],
 "metadata": {
  "kernelspec": {
   "display_name": "Python 3",
   "language": "python",
   "name": "python3"
  },
  "language_info": {
   "codemirror_mode": {
    "name": "ipython",
    "version": 2
   },
   "file_extension": ".py",
   "mimetype": "text/x-python",
   "name": "python",
   "nbconvert_exporter": "python",
   "pygments_lexer": "ipython2",
   "version": "2.7.6"
  }
 },
 "nbformat": 4,
 "nbformat_minor": 0
}
